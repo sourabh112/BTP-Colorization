{
 "cells": [
  {
   "cell_type": "code",
   "execution_count": 12,
   "id": "dd702059",
   "metadata": {},
   "outputs": [
    {
     "name": "stdout",
     "output_type": "stream",
     "text": [
      "Collecting torchinfo\n",
      "  Downloading torchinfo-1.7.2-py3-none-any.whl (22 kB)\n",
      "Installing collected packages: torchinfo\n",
      "Successfully installed torchinfo-1.7.2\n"
     ]
    }
   ],
   "source": [
    "!pip install torchinfo"
   ]
  },
  {
   "cell_type": "code",
   "execution_count": 13,
   "id": "2ba60509",
   "metadata": {},
   "outputs": [],
   "source": [
    "import torch\n",
    "from torchinfo import summary"
   ]
  },
  {
   "cell_type": "code",
   "execution_count": 2,
   "id": "66ca5be7",
   "metadata": {},
   "outputs": [],
   "source": [
    "class ConvBlock(torch.nn.Module):\n",
    "    def __init__(self, input_size, output_size, kernel_size=4, stride=2, padding=1, activation=True, batch_norm=True):\n",
    "        super(ConvBlock, self).__init__()\n",
    "        self.conv = torch.nn.Conv2d(input_size, output_size, kernel_size, stride, padding)\n",
    "        self.activation = activation\n",
    "        self.lrelu = torch.nn.LeakyReLU(0.2, True)\n",
    "        self.batch_norm = batch_norm\n",
    "        self.bn = torch.nn.BatchNorm2d(output_size)\n",
    "\n",
    "    def forward(self, x):\n",
    "        if self.activation:\n",
    "            out = self.conv(self.lrelu(x))\n",
    "        else:\n",
    "            out = self.conv(x)\n",
    "\n",
    "        if self.batch_norm:\n",
    "            return self.bn(out)\n",
    "        else:\n",
    "            return out"
   ]
  },
  {
   "cell_type": "code",
   "execution_count": 28,
   "id": "864225ce",
   "metadata": {},
   "outputs": [],
   "source": [
    "class Discriminator(torch.nn.Module):\n",
    "    def __init__(self, input_dim, num_filter, output_dim):\n",
    "        super(Discriminator, self).__init__()\n",
    "\n",
    "        self.conv1 = ConvBlock(input_dim, num_filter, activation=False, batch_norm=False)\n",
    "        self.conv2 = ConvBlock(num_filter, num_filter * 2)\n",
    "        self.conv3 = ConvBlock(num_filter * 2, num_filter * 4)\n",
    "        self.conv4 = ConvBlock(num_filter * 4, num_filter * 8, stride=1)\n",
    "        self.conv5 = ConvBlock(num_filter * 8, output_dim, stride=1, batch_norm=False)\n",
    "\n",
    "    def forward(self, x, label):\n",
    "        x = torch.cat([x, label], 1)\n",
    "        x = self.conv1(x)\n",
    "        x = self.conv2(x)\n",
    "        x = self.conv3(x)\n",
    "        x = self.conv4(x)\n",
    "        x = self.conv5(x)\n",
    "        out = torch.nn.Sigmoid()(x)\n",
    "        return out\n",
    "\n",
    "    def normal_weight_init(self, mean=0.0, std=0.02):\n",
    "        for m in self.children():\n",
    "            if isinstance(m, ConvBlock):\n",
    "                torch.nn.init.normal(m.conv.weight, mean, std)"
   ]
  },
  {
   "cell_type": "code",
   "execution_count": 29,
   "id": "66454449",
   "metadata": {},
   "outputs": [],
   "source": [
    "new_dis = Discriminator(1,64,6)"
   ]
  },
  {
   "cell_type": "code",
   "execution_count": 31,
   "id": "f0545541",
   "metadata": {},
   "outputs": [
    {
     "data": {
      "text/plain": [
       "==========================================================================================\n",
       "Layer (type:depth-idx)                   Output Shape              Param #\n",
       "==========================================================================================\n",
       "Discriminator                            [64, 6, 1, 1]             --\n",
       "├─ConvBlock: 1-1                         [64, 64, 12, 12]          128\n",
       "│    └─Conv2d: 2-1                       [64, 64, 12, 12]          1,088\n",
       "├─ConvBlock: 1-2                         [64, 128, 6, 6]           --\n",
       "│    └─LeakyReLU: 2-2                    [64, 64, 12, 12]          --\n",
       "│    └─Conv2d: 2-3                       [64, 128, 6, 6]           131,200\n",
       "│    └─BatchNorm2d: 2-4                  [64, 128, 6, 6]           256\n",
       "├─ConvBlock: 1-3                         [64, 256, 3, 3]           --\n",
       "│    └─LeakyReLU: 2-5                    [64, 128, 6, 6]           --\n",
       "│    └─Conv2d: 2-6                       [64, 256, 3, 3]           524,544\n",
       "│    └─BatchNorm2d: 2-7                  [64, 256, 3, 3]           512\n",
       "├─ConvBlock: 1-4                         [64, 512, 2, 2]           --\n",
       "│    └─LeakyReLU: 2-8                    [64, 256, 3, 3]           --\n",
       "│    └─Conv2d: 2-9                       [64, 512, 2, 2]           2,097,664\n",
       "│    └─BatchNorm2d: 2-10                 [64, 512, 2, 2]           1,024\n",
       "├─ConvBlock: 1-5                         [64, 6, 1, 1]             12\n",
       "│    └─LeakyReLU: 2-11                   [64, 512, 2, 2]           --\n",
       "│    └─Conv2d: 2-12                      [64, 6, 1, 1]             49,158\n",
       "==========================================================================================\n",
       "Total params: 2,805,586\n",
       "Trainable params: 2,805,586\n",
       "Non-trainable params: 0\n",
       "Total mult-adds (G): 1.15\n",
       "==========================================================================================\n",
       "Input size (MB): 0.16\n",
       "Forward/backward pass size (MB): 13.90\n",
       "Params size (MB): 11.22\n",
       "Estimated Total Size (MB): 25.28\n",
       "=========================================================================================="
      ]
     },
     "execution_count": 31,
     "metadata": {},
     "output_type": "execute_result"
    }
   ],
   "source": [
    "summary(new_dis,input_size=(64,1,25,25))"
   ]
  },
  {
   "cell_type": "code",
   "execution_count": null,
   "id": "9fbfccd3",
   "metadata": {},
   "outputs": [],
   "source": []
  }
 ],
 "metadata": {
  "kernelspec": {
   "display_name": "Python 3 (ipykernel)",
   "language": "python",
   "name": "python3"
  },
  "language_info": {
   "codemirror_mode": {
    "name": "ipython",
    "version": 3
   },
   "file_extension": ".py",
   "mimetype": "text/x-python",
   "name": "python",
   "nbconvert_exporter": "python",
   "pygments_lexer": "ipython3",
   "version": "3.8.13"
  }
 },
 "nbformat": 4,
 "nbformat_minor": 5
}
