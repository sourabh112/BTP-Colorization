{
 "cells": [
  {
   "cell_type": "code",
   "execution_count": 1,
   "id": "9c0c69cf",
   "metadata": {},
   "outputs": [],
   "source": [
    "import os\n",
    "import cv2\n",
    "import matplotlib.pyplot as plt"
   ]
  },
  {
   "cell_type": "code",
   "execution_count": 2,
   "id": "8642896e",
   "metadata": {},
   "outputs": [],
   "source": [
    "path = \"./train/B\"\n",
    "dir_list = os.listdir(path)\n",
    "\n",
    "file_names = dir_list"
   ]
  },
  {
   "cell_type": "code",
   "execution_count": null,
   "id": "e7e3d2ef",
   "metadata": {},
   "outputs": [],
   "source": [
    "for i in file_names:\n",
    "    img = cv2.imread(\"./train/B/\"+i)\n",
    "    if img.shape[0]>img.shape[1]:\n",
    "        img = img[:img.shape[1],:]\n",
    "    else:\n",
    "        img = img[:,int(img.shape[1]/2-img.shape[0]/2):int(img.shape[1]/2+img.shape[0]/2)]\n",
    "    img = cv2.resize(img, (512, 512))\n",
    "    cv2.imwrite(\"./train/E/\"+i, img)"
   ]
  },
  {
   "cell_type": "code",
   "execution_count": 3,
   "id": "2434c94c",
   "metadata": {},
   "outputs": [],
   "source": [
    "for i in file_names:\n",
    "    img = cv2.imread(\"./train/B/\"+i)\n",
    "    new_name = i.split('.')[0]+'.jpg'\n",
    "    cv2.imwrite(\"./train/E/\"+new_name, img)"
   ]
  },
  {
   "cell_type": "code",
   "execution_count": 4,
   "id": "0dac8ee0",
   "metadata": {},
   "outputs": [],
   "source": [
    "for i in file_names:\n",
    "    img = cv2.imread(\"./train/B/\"+i)\n",
    "    img = cv2.cvtColor(img, cv2.COLOR_BGR2GRAY)\n",
    "    new_name = i.split('.')[0]+'.jpg'\n",
    "    cv2.imwrite(\"./train/A/\"+new_name, img)"
   ]
  },
  {
   "cell_type": "code",
   "execution_count": 4,
   "id": "d6e144f6",
   "metadata": {},
   "outputs": [],
   "source": []
  },
  {
   "cell_type": "code",
   "execution_count": 3,
   "id": "953c2586",
   "metadata": {},
   "outputs": [],
   "source": []
  },
  {
   "cell_type": "code",
   "execution_count": 12,
   "id": "6c167d72",
   "metadata": {},
   "outputs": [],
   "source": []
  },
  {
   "cell_type": "code",
   "execution_count": 7,
   "id": "840b9e6a",
   "metadata": {},
   "outputs": [
    {
     "data": {
      "text/plain": [
       "True"
      ]
     },
     "execution_count": 7,
     "metadata": {},
     "output_type": "execute_result"
    }
   ],
   "source": []
  },
  {
   "cell_type": "code",
   "execution_count": null,
   "id": "a29d682c",
   "metadata": {},
   "outputs": [],
   "source": []
  }
 ],
 "metadata": {
  "kernelspec": {
   "display_name": "Python 3 (ipykernel)",
   "language": "python",
   "name": "python3"
  },
  "language_info": {
   "codemirror_mode": {
    "name": "ipython",
    "version": 3
   },
   "file_extension": ".py",
   "mimetype": "text/x-python",
   "name": "python",
   "nbconvert_exporter": "python",
   "pygments_lexer": "ipython3",
   "version": "3.8.13"
  }
 },
 "nbformat": 4,
 "nbformat_minor": 5
}
