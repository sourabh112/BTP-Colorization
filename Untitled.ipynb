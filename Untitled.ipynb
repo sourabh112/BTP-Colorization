{
 "cells": [
  {
   "cell_type": "code",
   "execution_count": 1,
   "id": "9c0c69cf",
   "metadata": {},
   "outputs": [],
   "source": [
    "import os\n",
    "import cv2\n",
    "import matplotlib.pyplot as plt"
   ]
  },
  {
   "cell_type": "code",
   "execution_count": 2,
   "id": "8642896e",
   "metadata": {},
   "outputs": [],
   "source": [
    "path = \"./train/B\"\n",
    "dir_list = os.listdir(path)\n",
    "\n",
    "file_names = dir_list"
   ]
  },
  {
   "cell_type": "code",
   "execution_count": 5,
   "id": "0dac8ee0",
   "metadata": {},
   "outputs": [],
   "source": [
    "for i in file_names:\n",
    "    img = cv2.imread(\"./train/B/\"+i)\n",
    "    img = cv2.cvtColor(img, cv2.COLOR_BGR2GRAY)\n",
    "    cv2.imwrite(\"./train/A/\"+i, img)"
   ]
  },
  {
   "cell_type": "code",
   "execution_count": 4,
   "id": "d6e144f6",
   "metadata": {},
   "outputs": [],
   "source": [
    "for i in file_names:\n",
    "    img = cv2.imread(\"./train/B/\"+i)\n",
    "    img = cv2.resize(img, (256, 256))\n",
    "    cv2.imwrite(\"./train/E/\"+i, img)"
   ]
  },
  {
   "cell_type": "code",
   "execution_count": 6,
   "id": "953c2586",
   "metadata": {},
   "outputs": [
    {
     "data": {
      "text/plain": [
       "(1600, 1066, 3)"
      ]
     },
     "execution_count": 6,
     "metadata": {},
     "output_type": "execute_result"
    }
   ],
   "source": [
    "img.shape"
   ]
  },
  {
   "cell_type": "code",
   "execution_count": 6,
   "id": "6c167d72",
   "metadata": {},
   "outputs": [],
   "source": [
    "img = cv2.imread(\"weird.jpg\")\n",
    "img = cv2.cvtColor(img, cv2.COLOR_BGR2RGB)"
   ]
  },
  {
   "cell_type": "code",
   "execution_count": 7,
   "id": "840b9e6a",
   "metadata": {},
   "outputs": [
    {
     "data": {
      "text/plain": [
       "True"
      ]
     },
     "execution_count": 7,
     "metadata": {},
     "output_type": "execute_result"
    }
   ],
   "source": []
  },
  {
   "cell_type": "code",
   "execution_count": null,
   "id": "a29d682c",
   "metadata": {},
   "outputs": [],
   "source": []
  }
 ],
 "metadata": {
  "kernelspec": {
   "display_name": "Python 3 (ipykernel)",
   "language": "python",
   "name": "python3"
  },
  "language_info": {
   "codemirror_mode": {
    "name": "ipython",
    "version": 3
   },
   "file_extension": ".py",
   "mimetype": "text/x-python",
   "name": "python",
   "nbconvert_exporter": "python",
   "pygments_lexer": "ipython3",
   "version": "3.8.13"
  }
 },
 "nbformat": 4,
 "nbformat_minor": 5
}
